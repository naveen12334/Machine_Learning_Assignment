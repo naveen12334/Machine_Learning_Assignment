{
 "cells": [
  {
   "cell_type": "markdown",
   "metadata": {},
   "source": [
    "# Assignment_23"
   ]
  },
  {
   "cell_type": "markdown",
   "metadata": {},
   "source": [
    "# 1. What are the key reasons for reducing the dimensionality of a dataset? What are the major disadvantages?"
   ]
  },
  {
   "cell_type": "markdown",
   "metadata": {},
   "source": [
    "Ans->\n",
    "In machine learning classification problems, there are often too many factors on the basis of which the\n",
    "final classification is done. These factors are basically variables called features. The higher the number\n",
    "of features, the harder it gets to visualize the training set and then work on it. Sometimes, most of \n",
    "these features are correlated, and hence redundant. This is where dimensionality reduction algorithms come\n",
    "into play. Dimensionality reduction is the process of reducing the number of random variables under \n",
    "consideration, by obtaining a set of principal variables. It can be divided into feature selection and \n",
    "feature extraction.\n",
    "\n",
    "Basically, it may lead to some amount of data loss.\n",
    "Although, PCA(Principal Component Analysis) tends to find linear correlations between variables, which is\n",
    "sometimes undesirable.\n",
    "\n",
    "Also, PCA fails in cases where mean and covariance are not enough to define datasets.\n",
    "Further, we may not know how many principal components to keep- in practice, some thumb rules are applied."
   ]
  },
  {
   "cell_type": "markdown",
   "metadata": {},
   "source": [
    "# 2. What is the dimensionality curse?"
   ]
  },
  {
   "cell_type": "markdown",
   "metadata": {},
   "source": [
    "Ans->\n",
    "The curse of dimensionality basically means that the error increases with the increase in the number of \n",
    "features. It refers to the fact that algorithms are harder to design in high dimensions and often have a\n",
    "running time exponential in the dimensions. A higher number of dimensions theoretically allow more \n",
    "information to be stored, but practically it rarely helps due to the higher possibility of noise and \n",
    "redundancy in the real-world data."
   ]
  },
  {
   "cell_type": "markdown",
   "metadata": {},
   "source": [
    "# 3. Tell if its possible to reverse the process of reducing the dimensionality of a dataset? If so, how can you go about doing it? If not, what is the reason?"
   ]
  },
  {
   "cell_type": "markdown",
   "metadata": {},
   "source": [
    "Ans->\n",
    "Once a dataset's dimensionality has been reduced using one of the algorithms we discussed, it is almost\n",
    "always impossible to perfectly reverse the operation, because some information gets lost during \n",
    "dimensionality reduction.Moreover, while some algorithms (such as PCA) have a simple reverse \n",
    "transformation procedure that can reconstruct a dataset relatively similar to the original, other\n",
    "algorithms (such as T-SNE) do not\n",
    "Dimensionality reduction (compression of information) is reversible in auto-encoders. Auto-encoder is \n",
    "regular neural network with bottleneck layer in the middle. You have for instance 20 inputs in the first \n",
    "layer, 10 neurons in the middle layer and again 20 neurons in the last layer. When we train such network \n",
    "we force it to compress information to 10 neurons and then uncompress again minimizing error in the last\n",
    "layer(desired output vector equals input vector). When we use well known Back-propagation algorithm to\n",
    "train such network it performs PCA - Principal Component Analysis. PCA returns uncorrelated features. \n",
    "By using more sophisticated algorithm to train auto-encoder we can make it perform nonlinear ICA -\n",
    "Independent Component Analysis. ICA returns statistically independent features. This training algorithm \n",
    "searches for low complexity neural networks with high generalization capability. As a byproduct of \n",
    "regularization we get ICA."
   ]
  },
  {
   "cell_type": "markdown",
   "metadata": {},
   "source": [
    "# 4. Can PCA be utilized to reduce the dimensionality of a nonlinear dataset with a lot of variables?"
   ]
  },
  {
   "cell_type": "markdown",
   "metadata": {},
   "source": [
    "Ans->\n",
    "PCA can at least get rid of useless dimensions, which will significantly reduce the demensionality of most \n",
    "datasets. However, reducing demensionality of datasets without useless dimensions will loose too much info.\n",
    "\"We want to unroll the swiss roll, not squash it\"\n",
    "OF course, we can still do a PCA computation on nonlinear data - but the results will be meaningless,\n",
    "beyond decomposing to the dominant linear modes and provided a global linear representation of the spread\n",
    "of the data.  "
   ]
  },
  {
   "cell_type": "markdown",
   "metadata": {},
   "source": [
    "# 5. Assume you&#39;re running PCA on a 1,000-dimensional dataset with a 95 percent explained variance ratio. What is the number of dimensions that the resulting dataset would have?"
   ]
  },
  {
   "cell_type": "markdown",
   "metadata": {},
   "source": [
    "Ans->\n",
    "The straight-forward solution would be to integrate over a uniform distribution for each\n",
    "point:\n",
    "\n",
    "Z 1\n",
    "\n",
    "0\n",
    "\n",
    "Z 1\n",
    "\n",
    "0\n",
    "\n",
    "Z 1\n",
    "\n",
    "0\n",
    "\n",
    "Z 1\n",
    "\n",
    "0\n",
    "\n",
    "p\n",
    "\n",
    "(x1 − x2)\n",
    "\n",
    "2 + (y1 − y2)\n",
    "\n",
    "2dx1dx2dy1dy2 .\n",
    "\n",
    "Good luck solving this! The better approach is to integrate over the distance on each axis. If\n",
    "a and b are some uniformly distributed variables (pdf is 1), then c = |a − b| has a triangular\n",
    "distribution with a pdf of 2(1 − c). Then the average distance in two dimensions becomes:\n",
    "\n",
    "Z 1\n",
    "\n",
    "0\n",
    "\n",
    "Z 1\n",
    "\n",
    "0\n",
    "\n",
    "p\n",
    "\n",
    "x\n",
    "\n",
    "2 + y\n",
    "\n",
    "2 2(1 − x) 2(1 − y) dxdy .\n",
    "\n",
    "We can now switch to polar coordinates, i.e. x = r cos θ and y = r sin θ, with r = 1/ cos θ (unit\n",
    "1\n",
    "square). We can then integrate over the lower half (up to π/4) and double the result:\n",
    "\n",
    "ˆd = 2 Z π/4\n",
    "\n",
    "0\n",
    "\n",
    "Z 1/ cos θ\n",
    "\n",
    "0\n",
    "\n",
    "p\n",
    "\n",
    "r\n",
    "\n",
    "2 cos2 θ + r\n",
    "\n",
    "2 sin2\n",
    "\n",
    "θ 2(1 − r cos θ) 2(1 − r sin θ) r dr dθ\n",
    "\n",
    "= 8 Z π/4\n",
    "\n",
    "0\n",
    "\n",
    "Z 1/ cos θ\n",
    "\n",
    "0\n",
    "\n",
    "r\n",
    "\n",
    "2\n",
    "\n",
    "(1 − r cos θ) (1 − r sin θ) dr dθ\n",
    "= 8 Z π/4\n",
    "\n",
    "0\n",
    "\n",
    "Z 1/ cos θ\n",
    "\n",
    "0\n",
    "\n",
    "r\n",
    "\n",
    "2 − r\n",
    "\n",
    "3\n",
    "\n",
    "cos θ − r\n",
    "\n",
    "3\n",
    "\n",
    "sin θ + r\n",
    "\n",
    "4\n",
    "\n",
    "cos θ sin θ dr dθ\n",
    "\n",
    "= 8 Z π/4\n",
    "\n",
    "0\n",
    "\n",
    "sec3\n",
    "\n",
    "θ\n",
    "\n",
    "12\n",
    "\n",
    "−\n",
    "\n",
    "sec3\n",
    "\n",
    "θ tan θ\n",
    "\n",
    "20\n",
    "\n",
    "dθ\n",
    "\n",
    "=\n",
    "\n",
    "2 + √\n",
    "\n",
    "2 + 5 ln(√\n",
    "\n",
    "2 + 1)\n",
    "\n",
    "15\n",
    "\n",
    "≈ 0.521\n"
   ]
  },
  {
   "cell_type": "markdown",
   "metadata": {},
   "source": [
    "# 6. Will you use vanilla PCA, incremental PCA, randomized PCA, or kernel PCA in which situations?"
   ]
  },
  {
   "cell_type": "markdown",
   "metadata": {},
   "source": [
    "Ans->\n",
    "+ Vanilla: works only if the dataset fits in memory\n",
    "+ Incremental: useful for large datasets that don't fit in memory, but is slower than regular. Also useful \n",
    "              for online tasks, when you apply PCA on the fly\n",
    "+ Randomized: useful when we want to considerably reduce dimensionality and the dataset fits in memory\n",
    "+ Kernel: Useful for nonlinear datasets"
   ]
  },
  {
   "cell_type": "markdown",
   "metadata": {},
   "source": [
    "# 7. How do you assess a dimensionality reduction algorithm's success on your dataset?"
   ]
  },
  {
   "cell_type": "markdown",
   "metadata": {},
   "source": [
    "Ans->Intuitively, a dimensionality reduction algorithm performs well if it eliminates a lot of dimensions from \n",
    "the dataset without losing too much information.\n",
    "\n",
    "One way to measure this is to apply the reverse transformation and measure the reconstruction error. \n",
    "\n",
    "However, not all dimensionality reduction algorithms provide a reverse transformation.\n",
    "\n",
    "Alternatively, if you are using dimensionality reduction as a preprocessing step before another Machine \n",
    "Learning algorithm (e.g., a Random Forest classifier), then you can simply measure the performance of that\n",
    "second algorithm; if dimensionality reduction did not lose too much information, then the algorithm should\n",
    "perform just as well as when using the original dataset.\n"
   ]
  },
  {
   "cell_type": "markdown",
   "metadata": {},
   "source": [
    "# 8. Is it logical to use two different dimensionality reduction algorithms in a chain?"
   ]
  },
  {
   "cell_type": "markdown",
   "metadata": {},
   "source": [
    "Ans->WE can chain two different algorithms, such as PCA to quickly get rid of unnecessary data and then LLE(Locall Linear Embedded) that works slower. This will likely yield the same performance, but with faster results."
   ]
  }
 ],
 "metadata": {
  "kernelspec": {
   "display_name": "Python 3 (ipykernel)",
   "language": "python",
   "name": "python3"
  },
  "language_info": {
   "codemirror_mode": {
    "name": "ipython",
    "version": 3
   },
   "file_extension": ".py",
   "mimetype": "text/x-python",
   "name": "python",
   "nbconvert_exporter": "python",
   "pygments_lexer": "ipython3",
   "version": "3.7.11"
  }
 },
 "nbformat": 4,
 "nbformat_minor": 4
}
