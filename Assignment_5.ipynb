{
 "cells": [
  {
   "cell_type": "markdown",
   "metadata": {},
   "source": [
    "# Assignment_5"
   ]
  },
  {
   "cell_type": "markdown",
   "metadata": {},
   "source": [
    "# 1. What are the key tasks that machine learning entails? What does data pre-processing imply?"
   ]
  },
  {
   "cell_type": "markdown",
   "metadata": {},
   "source": [
    "Ans->Key tasks under machine learning are \n",
    " 1. Defining an objective\n",
    " 2. Collection of data\n",
    " 3. Data preprocessing\n",
    " 4. Choose the model\n",
    " 5. Train model\n",
    " 6. Evaluate using performance\n",
    " 7. Tune the hyperparameters for best performance\n",
    " 8. Produce results\n",
    " \n",
    "Data Pre-processing includes steps to make data ready to be used for machine learning modeling. It includes, but is not limited to data cleaning, standardizing of keywords or headers, taking care of missing values and outliers."
   ]
  },
  {
   "cell_type": "markdown",
   "metadata": {},
   "source": [
    "# 2. Describe quantitative and qualitative data in depth. Make a distinction between the two."
   ]
  },
  {
   "cell_type": "markdown",
   "metadata": {},
   "source": [
    "Ans->Quantitative data is one that is numerical in nature and has order and mathematical meaning to it. It can be of two types\n",
    "\n",
    " 1. Discrete quantitative data\n",
    " This type of data has values that come from a countably finite or uncountably finite set. For example: number of planets in Milky Way galaxy. It is generally visualized using bar plots.\n",
    " \n",
    " 2. Continous quantitative data\n",
    " This type of data has values that come from uncountably infinite sets. For example: heights of Indians. It is generally visualized using histograms.\n",
    " \n",
    "Qualitative data is one that can be numerical or string in nature, does not necessarily have order to it but cannot possess mathematical meaning. For example: Blood groups, Grades etc.\n",
    "\n",
    " 1. Nominal qualitative data\n",
    " This type of data is mostly used to label data points based on other characteristics. Nominal data cannot be ordered in any way. For example: Classification of flowers into sub species based on characteristics like sepal length etc.\n",
    " \n",
    " 2. Ordinal qualitative data\n",
    " This type of data is one that can be ordered. For example: Grades.\n",
    " \n",
    "Quantitative data is different from qualitative data as it does not have any numerical nature and do not have mathematical meaning."
   ]
  },
  {
   "cell_type": "markdown",
   "metadata": {},
   "source": [
    "# 3. Create a basic data collection that includes some sample records. Have at least one attribute from each of the machine learning data types."
   ]
  },
  {
   "cell_type": "code",
   "execution_count": 1,
   "metadata": {},
   "outputs": [],
   "source": [
    "#sol->\n",
    "input = {\"names\":{\"Naveen,Gupta\"},\"marks\":{67,89},\"date\":{\"February,2022\",\"February,2022\"},\"grade\":{\"A\",\"B\"}}"
   ]
  },
  {
   "cell_type": "code",
   "execution_count": 2,
   "metadata": {},
   "outputs": [
    {
     "data": {
      "text/plain": [
       "{'names': {'Naveen,Gupta'},\n",
       " 'marks': {67, 89},\n",
       " 'date': {'February,2022'},\n",
       " 'grade': {'A', 'B'}}"
      ]
     },
     "execution_count": 2,
     "metadata": {},
     "output_type": "execute_result"
    }
   ],
   "source": [
    "input"
   ]
  },
  {
   "cell_type": "markdown",
   "metadata": {},
   "source": [
    "# 4. What are the various causes of machine learning data issues? What are the ramifications?"
   ]
  },
  {
   "cell_type": "markdown",
   "metadata": {},
   "source": [
    "Ans->\n",
    "Machine learning data issues can arise from\n",
    " 1. Removing outliers from data having non-gaussian distribution.\n",
    " 2. Imputing data using numerical averages in case of non gaussian distribution.\n",
    " 3. Low number of data points\n",
    " 4. Data coming from a sample not representative of the population.\n",
    " 5. Improper data entry\n",
    " 6. Highly Collinear independent features\n",
    "\n",
    "Ramifications can be overfitting, underfitting and low performance."
   ]
  },
  {
   "cell_type": "markdown",
   "metadata": {},
   "source": [
    "# 5. Demonstrate various approaches to categorical data exploration with appropriate examples."
   ]
  },
  {
   "cell_type": "markdown",
   "metadata": {},
   "source": [
    "Ans->The most basic approach is to use describe() from pandas"
   ]
  },
  {
   "cell_type": "code",
   "execution_count": 11,
   "metadata": {},
   "outputs": [],
   "source": [
    "import pandas as pd\n",
    "\n",
    "url = \"https://archive.ics.uci.edu/ml/machine-learning-databases/iris/iris.data\"\n",
    "names = ['sepal.length', 'sepal.width', 'petal.length', 'petal.width', 'variety']\n",
    "df = pd.read_csv(url, names=names)"
   ]
  },
  {
   "cell_type": "code",
   "execution_count": 12,
   "metadata": {},
   "outputs": [
    {
     "data": {
      "text/html": [
       "<div>\n",
       "<style scoped>\n",
       "    .dataframe tbody tr th:only-of-type {\n",
       "        vertical-align: middle;\n",
       "    }\n",
       "\n",
       "    .dataframe tbody tr th {\n",
       "        vertical-align: top;\n",
       "    }\n",
       "\n",
       "    .dataframe thead th {\n",
       "        text-align: right;\n",
       "    }\n",
       "</style>\n",
       "<table border=\"1\" class=\"dataframe\">\n",
       "  <thead>\n",
       "    <tr style=\"text-align: right;\">\n",
       "      <th></th>\n",
       "      <th>sepal.length</th>\n",
       "      <th>sepal.width</th>\n",
       "      <th>petal.length</th>\n",
       "      <th>petal.width</th>\n",
       "      <th>variety</th>\n",
       "    </tr>\n",
       "  </thead>\n",
       "  <tbody>\n",
       "    <tr>\n",
       "      <th>0</th>\n",
       "      <td>5.1</td>\n",
       "      <td>3.5</td>\n",
       "      <td>1.4</td>\n",
       "      <td>0.2</td>\n",
       "      <td>Iris-setosa</td>\n",
       "    </tr>\n",
       "    <tr>\n",
       "      <th>1</th>\n",
       "      <td>4.9</td>\n",
       "      <td>3.0</td>\n",
       "      <td>1.4</td>\n",
       "      <td>0.2</td>\n",
       "      <td>Iris-setosa</td>\n",
       "    </tr>\n",
       "    <tr>\n",
       "      <th>2</th>\n",
       "      <td>4.7</td>\n",
       "      <td>3.2</td>\n",
       "      <td>1.3</td>\n",
       "      <td>0.2</td>\n",
       "      <td>Iris-setosa</td>\n",
       "    </tr>\n",
       "    <tr>\n",
       "      <th>3</th>\n",
       "      <td>4.6</td>\n",
       "      <td>3.1</td>\n",
       "      <td>1.5</td>\n",
       "      <td>0.2</td>\n",
       "      <td>Iris-setosa</td>\n",
       "    </tr>\n",
       "    <tr>\n",
       "      <th>4</th>\n",
       "      <td>5.0</td>\n",
       "      <td>3.6</td>\n",
       "      <td>1.4</td>\n",
       "      <td>0.2</td>\n",
       "      <td>Iris-setosa</td>\n",
       "    </tr>\n",
       "  </tbody>\n",
       "</table>\n",
       "</div>"
      ],
      "text/plain": [
       "   sepal.length  sepal.width  petal.length  petal.width      variety\n",
       "0           5.1          3.5           1.4          0.2  Iris-setosa\n",
       "1           4.9          3.0           1.4          0.2  Iris-setosa\n",
       "2           4.7          3.2           1.3          0.2  Iris-setosa\n",
       "3           4.6          3.1           1.5          0.2  Iris-setosa\n",
       "4           5.0          3.6           1.4          0.2  Iris-setosa"
      ]
     },
     "execution_count": 12,
     "metadata": {},
     "output_type": "execute_result"
    }
   ],
   "source": [
    "df.head()"
   ]
  },
  {
   "cell_type": "code",
   "execution_count": 13,
   "metadata": {},
   "outputs": [
    {
     "data": {
      "text/plain": [
       "count                 150\n",
       "unique                  3\n",
       "top       Iris-versicolor\n",
       "freq                   50\n",
       "Name: variety, dtype: object"
      ]
     },
     "execution_count": 13,
     "metadata": {},
     "output_type": "execute_result"
    }
   ],
   "source": [
    "df.variety.describe()"
   ]
  },
  {
   "cell_type": "markdown",
   "metadata": {},
   "source": [
    "The next way is to use visualizations"
   ]
  },
  {
   "cell_type": "code",
   "execution_count": 14,
   "metadata": {},
   "outputs": [],
   "source": [
    "import seaborn as sns"
   ]
  },
  {
   "cell_type": "code",
   "execution_count": 15,
   "metadata": {},
   "outputs": [
    {
     "data": {
      "text/plain": [
       "Text(0.5, 1.0, 'Frequency Plot')"
      ]
     },
     "execution_count": 15,
     "metadata": {},
     "output_type": "execute_result"
    },
    {
     "data": {
      "image/png": "[encoded data removed]",
      "text/plain": [
       "<Figure size 432x288 with 1 Axes>"
      ]
     },
     "metadata": {
      "needs_background": "light"
     },
     "output_type": "display_data"
    }
   ],
   "source": [
    "import matplotlib.pyplot as plt\n",
    "c=df.groupby('variety')['variety'].count() \n",
    "sns.barplot(x=c.index, y=c.values)\n",
    "plt.title(\"Frequency Plot\")"
   ]
  },
  {
   "cell_type": "markdown",
   "metadata": {},
   "source": [
    "# 6. How would the learning activity be affected if certain variables have missing values? Having said that, what can be done about it?¶"
   ]
  },
  {
   "cell_type": "markdown",
   "metadata": {},
   "source": [
    "Ans->Several sklearn algorithms assume that all features are numerical and have mathematical meaning to them. If they come across missing values, the algorithm breaks and the program breaks. Generally, missing data builds up poor performance of the machine learning model. Certain algorithms like Random Forest however can handle missing data, at the expense of performance.\n",
    "\n",
    "Missing values can be imputed if the data has gaussian distribution. If not, median can be used for imputation. Certain values can also be filled using pandas interpolate() that calculates what missing value should be, based on the previous values but this can only work for features like ID code. Another way is to use machine learning models to learn from the data and then fill the missing value with most probable value."
   ]
  },
  {
   "cell_type": "markdown",
   "metadata": {},
   "source": [
    "# 7. Describe the various methods for dealing with missing data values in depth."
   ]
  },
  {
   "cell_type": "markdown",
   "metadata": {},
   "source": [
    "Ans->\n",
    "\n",
    "1. Imputation\n",
    " If the data distribution is normal, then numerical averages can be used to fill missing data as most of the data would lie around the mean. If data is not normally distributed, median can be used for imputation of values as median is not affected by presence of outliers. pd.df.fillna() is used for imputations\n",
    " \n",
    " 2. Removal of datapoint\n",
    " If there is a lot of data and the missing values are very low in numbers, then it may be better to simply remove that specific data point row. This will have little effect over performance of the machine learning model to be built. pd.df.drop() is used for this.\n",
    " \n",
    " 3. Interpolate()\n",
    " Interpolate() of pandas library is used in cases where numerical data is following some trend. This trend calculated and values are filled based on it. This function will not work on any other scenarios.\n",
    " \n",
    " 4. Build a machine learning model for filling data\n",
    " Machine learning models can learn from the data and then fill the missing value with most probable value. KNN models can be built for this purpose.\n",
    " \n",
    " 5. Dropping column\n",
    " Removing an entire column which is filled with missing data might be our best bet for building a good machine learning model."
   ]
  },
  {
   "cell_type": "markdown",
   "metadata": {},
   "source": [
    "# 8. What are the various data pre-processing techniques? Explain dimensionality reduction and function selection in a few words."
   ]
  },
  {
   "cell_type": "markdown",
   "metadata": {},
   "source": [
    "Ans->\n",
    "***Assuming function selection as feature selection***\n",
    "\n",
    "Data Pre-Processing techniques:\n",
    " 1. Data Cleaning\n",
    " 2. Data Transformation\n",
    " 3. Data Reduction\n",
    " \n",
    "Dimensionality Reduction and feature selection are both methods of reducing the number of features a machine learning model would be trained on, so that effective space time complexity of algorithms can be minimized. Dimensionality Reduction is a method which relies on converting the features into a lower dimension while feature selection relies on including only those features that will contribute most to the performance of a machine learning model. Examples of Dimensionality Reduction are PCA and t-SNE. Examples of feature selection are forward feature selection and backward feature selection."
   ]
  },
  {
   "cell_type": "markdown",
   "metadata": {},
   "source": [
    "# 9.i. What is the IQR? What criteria are used to assess it?¶"
   ]
  },
  {
   "cell_type": "markdown",
   "metadata": {},
   "source": [
    "Ans->IQR or Inter-Quartile Range is a measure of dispersion. It is formulated as (third quartile-1st quartile). It is dependent on only 50% of the data.\n",
    "\n",
    "First quartile and third quartile are required to assess Inter Quartile Range."
   ]
  },
  {
   "cell_type": "markdown",
   "metadata": {},
   "source": [
    "# ii. Describe the various components of a box plot in detail? When will the lower whisker surpass the upper whisker in length? How can box plots be used to identify outliers?"
   ]
  },
  {
   "cell_type": "markdown",
   "metadata": {},
   "source": [
    "Ans->A boxplot gives us the 5 point summary which includes first quartile(median of the first 50% of the data), third quartile(median for second 50% of the data), median or 2nd quartile(exact mid point of the entire data), maximum value and minimum value. It also has two whiskers which provide us with a visual position of minimum and maximum value, below and above which lies the threshold beyond which any data point will be shown as an outlier. Outliers are declared by using formula Q1-(1.5 * IQR) and Q3+(1.5 * IQR)\n",
    "\n",
    "Lower whisker surpasses the upper whisker if the data is right skewed."
   ]
  },
  {
   "cell_type": "markdown",
   "metadata": {},
   "source": [
    "# 10. Make brief notes on any two of the following:"
   ]
  },
  {
   "cell_type": "markdown",
   "metadata": {},
   "source": [
    "# i. Data collected at regular intervals"
   ]
  },
  {
   "cell_type": "markdown",
   "metadata": {},
   "source": [
    "Ans->Data collection can be in many different forms. One of the probabilistic sampling techniques used in Statistics is Stratified sampling in which data is collected at regular intervals but with a random start. It is used for its simplicity."
   ]
  },
  {
   "cell_type": "markdown",
   "metadata": {},
   "source": [
    "# iii. Use a cross-tab"
   ]
  },
  {
   "cell_type": "markdown",
   "metadata": {},
   "source": [
    "Ans->Cross tabs or cross tabulation are only used to find relations between two categorical variables where one categorical variable value would be giving row data and the other variable would give column data. Several tests like the chi square test can help find relations based on the cross tab."
   ]
  },
  {
   "cell_type": "markdown",
   "metadata": {},
   "source": [
    "# 11. Make a comparison between:"
   ]
  },
  {
   "cell_type": "markdown",
   "metadata": {},
   "source": [
    "# ii. Histogram and box plot"
   ]
  },
  {
   "cell_type": "markdown",
   "metadata": {},
   "source": [
    "Asn->Histograms are data visualizations used for continous quantitative data. Box Plots are data visualizations used for describing any quantitative data.\n",
    "\n",
    "Histograms are used for checking the distribution type. Box Plots are used for describing data in 5 point summary and detecting outliers in data.\n",
    "\n",
    "Granularity can be changed using bins in Histograms. Box Plots do no feature any control over granularity."
   ]
  },
  {
   "cell_type": "markdown",
   "metadata": {},
   "source": [
    "# iii. The average and median"
   ]
  },
  {
   "cell_type": "markdown",
   "metadata": {},
   "source": [
    "Ans->Average is a measure of numerical centrality of a distribution. Median is a measure of positional centrality of a distribution\n",
    "\n",
    "Average can also be referred to as the value that is closest to most number of values in a data. Median can also be referred to as the value which is exactly in the middle of a distribution.\n",
    "\n",
    "Averages are affected by presence of outliers. Medians are not affected by outliers."
   ]
  }
 ],
 "metadata": {
  "kernelspec": {
   "display_name": "Python 3",
   "language": "python",
   "name": "python3"
  },
  "language_info": {
   "codemirror_mode": {
    "name": "ipython",
    "version": 3
   },
   "file_extension": ".py",
   "mimetype": "text/x-python",
   "name": "python",
   "nbconvert_exporter": "python",
   "pygments_lexer": "ipython3",
   "version": "3.7.9"
  }
 },
 "nbformat": 4,
 "nbformat_minor": 5
}
