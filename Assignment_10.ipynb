{
 "cells": [
  {
   "cell_type": "markdown",
   "metadata": {},
   "source": [
    "# Assignment_10"
   ]
  },
  {
   "cell_type": "markdown",
   "metadata": {},
   "source": [
    "## 1. Define the Bayesian interpretation of probability."
   ]
  },
  {
   "cell_type": "markdown",
   "metadata": {},
   "source": [
    "Ans->Bayesian probability is a conditional probability which can be defined as: The probability of A given B or P(A|B) is equal to the Probability of B given A or P(B|A) multiplied by Probability of A or P(A), whole divided by Probability of B or P(B).\n",
    "or \n",
    "\n",
    "P(A|B) = (P(B|A).P(A))/P(B) when P(B) and P(A) > 0.\n",
    "\n",
    "Bayes Probability or Bayes theorem relies on assuming prior knowledge of conditions that are related to an event."
   ]
  },
  {
   "cell_type": "markdown",
   "metadata": {},
   "source": [
    "## 2. Define probability of a union of two events with equation."
   ]
  },
  {
   "cell_type": "markdown",
   "metadata": {},
   "source": [
    "Ans->Probability of a union of two events can be defined as: The probability of a union of two events A and B (A U B) is equal to the sum of probabilities of A and B, subtracting the probability of intersection of two events A and B.\n",
    "\n",
    "mathematically,\n",
    "\n",
    "P(A U B) = P(A) + P(B) - P(A ∩ B)"
   ]
  },
  {
   "cell_type": "markdown",
   "metadata": {},
   "source": [
    "## 3. What is joint probability? What is its formula?"
   ]
  },
  {
   "cell_type": "markdown",
   "metadata": {},
   "source": [
    "Ans->Joint probability or the multiplicative rule of probability is the probability of two events occuring spontaneously given that the events are independent.\n",
    "\n",
    "Mathematically,\n",
    "\n",
    "P(A ∩ B) = P(A) * P(B)"
   ]
  },
  {
   "cell_type": "markdown",
   "metadata": {},
   "source": [
    "## 4. What is chain rule of probability?"
   ]
  },
  {
   "cell_type": "markdown",
   "metadata": {},
   "source": [
    "Ans->Chain rule is an extension to the joint probability where simultaneous occurence of A and B can also be written as \n",
    "\n",
    "P(A ∩ B) = P(A) * P(B|A)\n",
    "\n",
    "and can be further extended to calculate simulataneous occurence of 3 events A,B and C and \n",
    "\n",
    "P(A ∩ B ∩ C) = P(A) * P(B|A) * P(C|A ∩ B)"
   ]
  },
  {
   "cell_type": "markdown",
   "metadata": {},
   "source": [
    "## 5. What is conditional probability means? What is the formula of it?"
   ]
  },
  {
   "cell_type": "markdown",
   "metadata": {},
   "source": [
    "Ans->Probability of an event A occuring given event B has already occurred is conditional probability. It is mathematically written as \n",
    "\n",
    "P(A|B) = P(A ∩ B)/P(B)"
   ]
  },
  {
   "cell_type": "markdown",
   "metadata": {},
   "source": [
    "## 6. What are continuous random variables?"
   ]
  },
  {
   "cell_type": "markdown",
   "metadata": {},
   "source": [
    "Ans->Continous random variables are variables whose values come from a subset of Real Numbers which is uncountably infinite."
   ]
  },
  {
   "cell_type": "markdown",
   "metadata": {},
   "source": [
    "## 7. What are Bernoulli distributions? What is the formula of it?"
   ]
  },
  {
   "cell_type": "markdown",
   "metadata": {},
   "source": [
    "Ans->Bernoulli distributions are a special case of Binomial distributions. This distribution is created by a single trial which can only have two outcomes, either success or failure. Probability Mass Function for Bernoulli Distribution is\n",
    "\n",
    "P(X=x) = p^x(1 - p)^(1-x) where p is the probability of success and 1-p is probability of failure where a random variable X can take only two values 0 and 1. x=1 would mean probability of success gets activated while x=0 would mean probability of failure gets activated."
   ]
  },
  {
   "cell_type": "markdown",
   "metadata": {},
   "source": [
    "## 8. What is binomial distribution? What is the formula?"
   ]
  },
  {
   "cell_type": "markdown",
   "metadata": {},
   "source": [
    "Ans->When one Bernoulli trial is repeated n times and all trials are independent and identical, Binomial distribution is created where P(X) would give the probability of number of successes out of n trails. Its Probability Mass Function is \n",
    "\n",
    "P(X=x) = nCx * p^x * q^(n-x) where n is number of trails and x is the number of successes out of n trials."
   ]
  },
  {
   "cell_type": "markdown",
   "metadata": {},
   "source": [
    "## 9. What is Poisson distribution? What is the formula?"
   ]
  },
  {
   "cell_type": "markdown",
   "metadata": {},
   "source": [
    "Ans->Poisson distribution is a discrete probability distribution that is used to calculate the likelihood of an event within a time period. \n",
    "When p is close to 0, and n trials are infinite in number, then assuming n * p = λ\n",
    "\n",
    "P(λ) = ((e^-λ) * (λ^x))/x! where λ>0"
   ]
  },
  {
   "cell_type": "markdown",
   "metadata": {},
   "source": [
    "## 10. Define covariance."
   ]
  },
  {
   "cell_type": "markdown",
   "metadata": {},
   "source": [
    "Ans->Linear relationship between 2 random variables can be given by Cov(X,Y) such that\n",
    "\n",
    "Cov(X,Y) = Expectation((X - Expectation(X))(Y - E(Y)))\n",
    "\n",
    "or \n",
    "\n",
    "Expectation(XY) - Expectation(X).Expectation(Y)\n",
    "\n",
    "Covariance can only measure direction of linear relationship between 2 random variables."
   ]
  },
  {
   "cell_type": "markdown",
   "metadata": {},
   "source": [
    "## 11. Define correlation"
   ]
  },
  {
   "cell_type": "markdown",
   "metadata": {},
   "source": [
    "Ans->Correlation is the numeric property which is used to measure direction and magnitude of the linear relationship between 2 random variables. High correlation does not guarantee causation."
   ]
  },
  {
   "cell_type": "markdown",
   "metadata": {},
   "source": [
    "## 12. Define sampling with replacement. Give example."
   ]
  },
  {
   "cell_type": "markdown",
   "metadata": {},
   "source": [
    "Ans->Sampling with replacement is the process of procuring subsets of data when any population element can be chosen and included into subsets more than once.\n",
    "\n",
    "If out of a class of 40 students we need to sample 10 students with simple random sampling method with replacement, we may choose one student more than once and include it into our subset."
   ]
  },
  {
   "cell_type": "markdown",
   "metadata": {},
   "source": [
    "## 13. What is sampling without replacement? Give example."
   ]
  },
  {
   "cell_type": "markdown",
   "metadata": {},
   "source": [
    "Ans->Sampling with replacement is the process of procuring subsets of data when a population element can be chosen and included into subsets only once.\n",
    "\n",
    "If out of a class of 40 students we need to sample 10 students without replacement, we have to choose one student only once and include it into our subset. This would mean that all the elements of that subset would necessarily be different."
   ]
  },
  {
   "cell_type": "markdown",
   "metadata": {},
   "source": [
    "## 14. What is hypothesis? Give example."
   ]
  },
  {
   "cell_type": "markdown",
   "metadata": {},
   "source": [
    "Ans->Hypothesis is any proposed statement either true or false, that is based on the possible outcome of a research or a statistical study. Hypothesis can be of parametric or statistical type.\n",
    "\n",
    "Increase in the years of experience will lead to increase in salary is an example of hypothesis."
   ]
  }
 ],
 "metadata": {
  "kernelspec": {
   "display_name": "Python 3",
   "language": "python",
   "name": "python3"
  },
  "language_info": {
   "codemirror_mode": {
    "name": "ipython",
    "version": 3
   },
   "file_extension": ".py",
   "mimetype": "text/x-python",
   "name": "python",
   "nbconvert_exporter": "python",
   "pygments_lexer": "ipython3",
   "version": "3.7.9"
  }
 },
 "nbformat": 4,
 "nbformat_minor": 5
}
