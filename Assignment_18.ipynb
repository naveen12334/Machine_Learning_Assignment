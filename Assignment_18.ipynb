{
 "cells": [
  {
   "cell_type": "markdown",
   "metadata": {},
   "source": [
    "# Assignment_18"
   ]
  },
  {
   "cell_type": "markdown",
   "metadata": {},
   "source": [
    "# 1. What is the difference between supervised and unsupervised learning? Give some examples to illustrate your point."
   ]
  },
  {
   "cell_type": "markdown",
   "metadata": {},
   "source": [
    "Ans->\n",
    "In a supervised learning model, the algorithm learns on a labeled dataset, providing an answer key that \n",
    "the algorithm can use to evaluate its accuracy on training data. An unsupervised model, in contrast, \n",
    "provides unlabeled data that the algorithm tries to make sense of by extracting features and patterns on\n",
    "its own.\n",
    "\n",
    "Unsupervised ML Examples\n",
    "1.A subgroup of cancer patients grouped by their gene expression measurements\n",
    "2.Groups of shopper based on their browsing and purchasing histories\n",
    "3.Movie group by the rating given by movies viewers\n",
    "\n",
    "Supervised ML examples\n",
    "1.Identify whether it is cat or dog\n",
    "2.House price prediction\n",
    "3.Predicting weather conditions\n",
    "Hence input data is labeled here whereas in unsupervised the input data is not labeled."
   ]
  },
  {
   "cell_type": "markdown",
   "metadata": {},
   "source": [
    "# 2. Mention a few unsupervised learning applications."
   ]
  },
  {
   "cell_type": "markdown",
   "metadata": {},
   "source": [
    "Ans->A few unsupervised learning applications are->\n",
    "\n",
    "1.A subgroup of cancer patients grouped by their gene expression measurements\n",
    "\n",
    "2.Groups of shopper based on their browsing and purchasing histories\n",
    "\n",
    "3.Movie group by the rating given by movies viewers"
   ]
  },
  {
   "cell_type": "markdown",
   "metadata": {},
   "source": [
    "# 3. What are the three main types of clustering methods? Briefly describe the characteristics of each."
   ]
  },
  {
   "cell_type": "markdown",
   "metadata": {},
   "source": [
    "Ans->\n",
    "Density-Based Clustering->\n",
    "\n",
    "In this method, the clusters are created based upon the density of the data points which are represented\n",
    "in the data space. The regions that become dense due to the huge number of data points residing in that \n",
    "region are considered as clusters.The data points in the sparse region (the region where the data points\n",
    "are very less) are considered as noise or outliers.\n",
    "\n",
    "Examples of Density-based clustering algorithms:\n",
    "\n",
    "DBSCAN (Density-Based Spatial Clustering of Applications\n",
    "with Noise)DBSCAN groups data points together based on the distance metric and criterion for a minimum \n",
    "number of data points.\n",
    "\n",
    "\n",
    "OPTICS (Ordering Points to Identify Clustering Structure)\n",
    "It is similar in process to DBSCAN, but it attends to one of the drawbacks of the former algorithm i.e. \n",
    "inability to form clusters from data of arbitrary density.\n",
    "\n",
    "\n",
    "HDBSCAN (Hierarchical Density-Based Spatial Clustering of Applications with Noise)\n",
    "HDBSCAN is a density-based clustering method that extends the DBSCAN methodology by converting it to a \n",
    "hierarchical clustering algorithm."
   ]
  },
  {
   "cell_type": "markdown",
   "metadata": {},
   "source": [
    "# 4. Explain how the k-means algorithm determines the consistency of clustering."
   ]
  },
  {
   "cell_type": "markdown",
   "metadata": {},
   "source": [
    "Ans->\n",
    "1.K centroids are created randomly (based on the predefined value of K)\n",
    "\n",
    "2.K-means allocates every data point in the dataset to the nearest centroid (minimizing Euclidean distances\n",
    "between them), meaning that a data point is considered to be in a particular cluster if it is closer to\n",
    "that cluster’s centroid than any other centroid.\n",
    "\n",
    "3.Then K-means recalculates the centroids by taking the mean of all data points assigned to that centroid’s\n",
    "cluster, hence reducing the total intra-cluster variance in relation to the previous step. The “means” in \n",
    "the K-means refers to averaging the data and finding the new centroid.\n",
    "\n",
    "4.The algorithm iterates between steps 2 and 3 until some criteria is met (e.g. the sum of distances between \n",
    "the data points and their corresponding centroid is minimized, a maximum number of iterations is reached, \n",
    "no changes in centroids value or no data points change clusters)"
   ]
  },
  {
   "cell_type": "markdown",
   "metadata": {},
   "source": [
    "# 5. With a simple illustration, explain the key difference between the k-means and k-medoids algorithms."
   ]
  },
  {
   "cell_type": "markdown",
   "metadata": {},
   "source": [
    "Ans->A problem with the K-Means  clustering is that the final centroids are not interpretable or in other words,\n",
    "centroids are not the actual point but the mean of points present in that cluster. \n",
    "\n",
    "The idea of K-Medoids clustering is to make the final centroids as actual data-points. This result to make\n",
    "the centroids interpretable.\n",
    "\n",
    "Update centroids: In the case of K-Means we were computing mean of all points present in the cluster. But\n",
    "for the PAM algorithm updation of the centroid is different. If there are m-point in a cluster, swap the \n",
    "previous centroid with all other (m-1) points from the cluster and finalize the point as new centroid that\n",
    "have a minimum loss."
   ]
  },
  {
   "cell_type": "markdown",
   "metadata": {},
   "source": [
    "# 6. What is a dendrogram, and how does it work? Explain how to do it."
   ]
  },
  {
   "cell_type": "markdown",
   "metadata": {},
   "source": [
    "Ans->It is a diagram that helps to do the visualization for hierarchical clustering. The main objective of using the\n",
    "    Dendrogram is to make an optimal number of clusters and to allocate objects to clusters.\n",
    "    \n",
    " Consider the closest point and make it a cluster-based upon Euclidean Distance.\n",
    " \n",
    " y-axis is the closest Euclidean Distance and the x-axis is having all data points.\n",
    " \n",
    "Again, find the clusters that are having the least distance between them.\n",
    "\n",
    "Now, p2 and p3 are having its own cluster and p1 is closest to it so we create a full cluster and plot it on the dendrogram graph.\n",
    "\n",
    "Similarly, with P6, P5, and P4\n",
    "\n",
    "Now, combine 2 clusters into a single cluster, and our dendrogram graph is ready.\n",
    "\n",
    "So from the above example, we have created a dendrogram no we need to find what is an optimal number of the cluster from the dendrogram.\n",
    "Let us draw a horizontal line on the dendrogram graph.\n",
    "\n",
    "It means the number of lines cut from the threshold horizontal line that is the number of clusters formed. So 2 clusters are formed from the above example.\n",
    "\n",
    "So, now the important question is when the distance is the largest, we can set that line as the threshold.\n",
    "\n",
    "So, the line cutting the largest distance is a threshold line that is, 2 clusters are formed.\n"
   ]
  },
  {
   "cell_type": "markdown",
   "metadata": {},
   "source": [
    "# 7. What exactly is SSE? What role does it play in the k-means algorithm?"
   ]
  },
  {
   "cell_type": "markdown",
   "metadata": {},
   "source": [
    "Ans-> SSE is the sum of the squared differences between each observation and its group's mean. It can be used \n",
    "as a measure of variation within a cluster. If all cases within a cluster are identical the SSE would then\n",
    "be equal to 0.\n",
    "\n",
    "The quality of the cluster assignments is determined by computing the sum of the squared error (SSE) \n",
    "after the centroids converge, or match the previous iteration’s assignment. The SSE is defined as the sum\n",
    "of the squared Euclidean distances of each point to its closest centroid. Since this is a measure of \n",
    "error, the objective of k-means is to try to minimize this value."
   ]
  },
  {
   "cell_type": "markdown",
   "metadata": {},
   "source": [
    "# 8. With a step-by-step algorithm, explain the k-means procedure."
   ]
  },
  {
   "cell_type": "markdown",
   "metadata": {},
   "source": [
    "Ans->\n",
    "Let  X = {x1,x2,x3,……..,xn} be the set of data points and V = {v1,v2,…….,vc} be the set of centers.\n",
    "\n",
    "1) Randomly select ‘c’ cluster centers.\n",
    "\n",
    "2) Calculate the distance between each data point and cluster centers.\n",
    "\n",
    "3) Assign the data point to the cluster center whose distance from the cluster center is minimum of all the\n",
    "   cluster centers..\n",
    "\n",
    "4) Recalculate the new cluster center using: \n",
    "\n",
    "where, ‘ci’ represents the number of data points in ith cluster.\n",
    "\n",
    "\n",
    "5) Recalculate the distance between each data point and new obtained cluster centers.\n",
    "\n",
    "6) If no data point was reassigned then stop, otherwise repeat from step 3)."
   ]
  },
  {
   "cell_type": "markdown",
   "metadata": {},
   "source": [
    "# 9. In the sense of hierarchical clustering, define the terms single link and complete link."
   ]
  },
  {
   "cell_type": "markdown",
   "metadata": {},
   "source": [
    "Ans->In single-link clustering or single-linkage clustering , the similarity of two clusters is the similarity\n",
    "of their most similar members . This single-link merge criterion is local. We pay attention solely to the\n",
    "area where the two clusters come closest to each other. Other, more distant parts of the cluster and the \n",
    "clusters' overall structure are not taken into account.\n",
    "\n",
    "In complete-link clustering or complete-linkage clustering , the similarity of two clusters is the \n",
    "similarity of their most dissimilar members. This is equivalent to choosing the \n",
    "cluster pair whose merge has the smallest diameter. This complete-link merge criterion is non-local; the \n",
    "entire structure of the clustering can influence merge decisions. This results in a preference for compact\n",
    "clusters with small diameters over long, straggly clusters, but also causes sensitivity to outliers. A\n",
    "single document far from the center can increase diameters of candidate merge clusters dramatically and\n",
    "completely change the final clustering."
   ]
  },
  {
   "cell_type": "markdown",
   "metadata": {},
   "source": [
    "# 10. How does the apriori concept aid in the reduction of measurement overhead in a business basket analysis? Give an example to demonstrate your point."
   ]
  },
  {
   "cell_type": "markdown",
   "metadata": {},
   "source": [
    "Ans->The Apriori algorithm uses frequent itemsets to generate association rules, and it is designed to work on \n",
    "the databases that contain transactions. With the help of these association rule, it determines how \n",
    "strongly or how weakly two objects are connected. This algorithm uses a breadth-first search and Hash \n",
    "Tree to calculate the itemset associations efficiently. It is the iterative process for finding the\n",
    "frequent itemsets from the large dataset.\n",
    "\n",
    "It is mainly used for market basket analysis and helps to find those products that can be bought together.\n",
    "It can also be used in the healthcare field to find drug reactions for patients."
   ]
  }
 ],
 "metadata": {
  "kernelspec": {
   "display_name": "Python 3",
   "language": "python",
   "name": "python3"
  },
  "language_info": {
   "codemirror_mode": {
    "name": "ipython",
    "version": 3
   },
   "file_extension": ".py",
   "mimetype": "text/x-python",
   "name": "python",
   "nbconvert_exporter": "python",
   "pygments_lexer": "ipython3",
   "version": "3.7.9"
  }
 },
 "nbformat": 4,
 "nbformat_minor": 4
}
