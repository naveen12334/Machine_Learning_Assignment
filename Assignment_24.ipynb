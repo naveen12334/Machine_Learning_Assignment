{
 "cells": [
  {
   "cell_type": "markdown",
   "metadata": {},
   "source": [
    "# Assignment_24"
   ]
  },
  {
   "cell_type": "markdown",
   "metadata": {},
   "source": [
    "### 1. What is your definition of clustering? What are a few clustering algorithms you might think of?"
   ]
  },
  {
   "cell_type": "markdown",
   "metadata": {},
   "source": [
    "Ans->\n",
    "clustering is a unsupervised approach. It is a method of identifying similar object and kipping them together.clustering is find a structute or pattern in a collection of unlabled data.\n",
    " \n",
    "The goal of clustering is to determine the intrensic groups of unlabled data.\n",
    "    \n",
    "Few algorithms of clusterings are:\n",
    " \n",
    "        1. k-mean clustering\n",
    "        2. herirachical clustering\n",
    "        3. DBSCAN "
   ]
  },
  {
   "cell_type": "markdown",
   "metadata": {},
   "source": [
    "### 2. What are some of the most popular clustering algorithm applications?"
   ]
  },
  {
   "cell_type": "markdown",
   "metadata": {},
   "source": [
    "Ans->\n",
    "Applications of clustering algorithm are:-\n",
    "\n",
    "        1. for customer segment \n",
    "        2. for data analysis\n",
    "        3. As a dimensionality reduction technique\n",
    "        4. for anamoly detection\n",
    "        5. to segment an image"
   ]
  },
  {
   "cell_type": "markdown",
   "metadata": {},
   "source": [
    "# 3. When using K-Means, describe two strategies for selecting the appropriate number of clusters."
   ]
  },
  {
   "cell_type": "markdown",
   "metadata": {},
   "source": [
    "Ans->The k-mean is a clusterring approach in which a data is grouped into k-distinct non-overlapping cluster based on the distance from the k-centre. the value of k is specified first then algorithm assign the point to exactly one cluster.\n",
    "\n",
    "The optimum value of k is obtained by using the elbow method(wcc or inertia)."
   ]
  },
  {
   "cell_type": "markdown",
   "metadata": {},
   "source": [
    "# 4. What is mark propagation and how does it work? Why would you do it, and how would you do it?"
   ]
  },
  {
   "cell_type": "markdown",
   "metadata": {},
   "source": [
    "Ans->Don't Know"
   ]
  },
  {
   "cell_type": "markdown",
   "metadata": {},
   "source": [
    "### 5. Provide two examples of clustering algorithms that can handle large datasets. And two that look for high-density areas?"
   ]
  },
  {
   "cell_type": "markdown",
   "metadata": {},
   "source": [
    "Ans->\n",
    "Two examples of clustering algorithms that can handle large datasets are-\n",
    "\n",
    "1. Identifying fraudulent or criminal activity.\n",
    "\n",
    "2. Classifying network traffic"
   ]
  },
  {
   "cell_type": "markdown",
   "metadata": {},
   "source": [
    "### 6. Can you think of a scenario in which constructive learning will be advantageous? How can you go about putting it into action?"
   ]
  },
  {
   "cell_type": "markdown",
   "metadata": {},
   "source": [
    "Ans->\n",
    "The scenarios in which constructive learning will be advantageous are->\n",
    "\n",
    ".Reciprocal teaching/learning allow pairs of students to teach each other.\n",
    "\n",
    ".Inquiry-based learning (IBL) Learners pose their own questions and seek answers to their questions via research and direct observation.They present their supporting evidence to answer the questions. They draw connections between their pre-existing knowledge and the knowledge they’ve acquired through the activity. Finally, they draw conclusions, highlight remaining gaps in knowledge and develop plans for future investigations.\n",
    "\n",
    ".Problem-based learning (PBL) is similar to IBL: learners acquire knowledge by devising a solution to a problem. PBL differs from IBL in that PBL activities provide students with real-world problems that require students to work together to devise a solution. As the group works through the challenging real-world problem, learners acquire communication and collaboration skills in addition to knowledge.\n",
    "\n",
    ".Cooperative learning ->Students work together in small groups to maximize their own and each other's learning. Cooperative learning differs from typical group work in that it requires interdependence among group members to solve a problem or complete an assignment."
   ]
  },
  {
   "cell_type": "markdown",
   "metadata": {},
   "source": [
    "### 7. How do you tell the difference between anomaly and novelty detection?"
   ]
  },
  {
   "cell_type": "markdown",
   "metadata": {},
   "source": [
    "Ans->\n",
    "Anamoly detection is similar to the novelty detection but not completely similar.\n",
    "\n",
    "The novelty detection is mainly concerned to identify the unabsorbed pattern in the obsrvation."
   ]
  },
  {
   "cell_type": "markdown",
   "metadata": {},
   "source": [
    "### 8. What is a Gaussian mixture, and how does it work? What are some of the things you can do about it?"
   ]
  },
  {
   "cell_type": "markdown",
   "metadata": {},
   "source": [
    "Ans->\n",
    "A Gaussian mixture model is a probabilistic model that assumes all the data points are generated from a mixture of a finite number of Gaussian distributions with unknown parameters.\n",
    "\n",
    "Gaussian Mixture models are used for representing Normally Distributed subpopulations within an overall population. The advantage of Mixture models is that they do not require which subpopulation a data point belongs to. It allows the model to learn the subpopulations automatically."
   ]
  },
  {
   "cell_type": "markdown",
   "metadata": {},
   "source": [
    "### 9. When using a Gaussian mixture model, can you name two techniques for determining the correct number of clusters?"
   ]
  },
  {
   "cell_type": "markdown",
   "metadata": {},
   "source": [
    "Ans->\n",
    "Gaussian mixture models (GMMs) are often used for data clustering. We can use GMMs to perform either hard clustering or soft clustering on query data. To perform hard clustering, the GMM assigns query data points to the multivariate normal components that maximize the component posterior probability, given the data."
   ]
  }
 ],
 "metadata": {
  "kernelspec": {
   "display_name": "Python 3 (ipykernel)",
   "language": "python",
   "name": "python3"
  },
  "language_info": {
   "codemirror_mode": {
    "name": "ipython",
    "version": 3
   },
   "file_extension": ".py",
   "mimetype": "text/x-python",
   "name": "python",
   "nbconvert_exporter": "python",
   "pygments_lexer": "ipython3",
   "version": "3.7.11"
  }
 },
 "nbformat": 4,
 "nbformat_minor": 2
}
